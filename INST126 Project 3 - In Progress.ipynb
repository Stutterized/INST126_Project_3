{
 "cells": [
  {
   "cell_type": "code",
   "execution_count": 31,
   "metadata": {},
   "outputs": [
    {
     "name": "stdout",
     "output_type": "stream",
     "text": [
      "{'2020-05-23': {'00:44:42': ['login', 'mailserver.local'], '14:59:22': ['login', 'myworkstation.local'], '16:03:27': ['login', 'myworkstation.local'], '18:17:12': ['login', 'webserver.local'], '17:59:15': ['logout', 'myworkstation.local']}, '2020-05-05': {'06:17:09': ['login', 'webserver.local'], '22:04:57': ['logout', 'mailserver.local'], '12:39:38': ['login', 'mailserver.local'], '22:00:19': ['logout', 'mailserver.local']}, '2020-05-12': {'08:06:39': ['logout', 'webserver.local'], '11:22:27': ['login', 'myworkstation.local'], '10:19:37': ['logout', 'mailserver.local'], '02:27:57': ['login', 'mailserver.local']}, '2020-05-16': {'08:09:55': ['logout', 'myworkstation.local'], '09:40:48': ['login', 'webserver.local']}, '2020-05-26': {'21:36:22': ['login', 'webserver.local'], '09:54:49': ['logout', 'webserver.local'], '07:27:12': ['login', 'myworkstation.local'], '09:55:14': ['login', 'webserver.local']}, '2020-05-20': {'07:22:57': ['logout', 'webserver.local'], '22:32:10': ['logout', 'myworkstation.local'], '14:49:19': ['login', 'webserver.local']}, '2020-05-03': {'08:15:50': ['login', 'webserver.local'], '12:22:56': ['login', 'myworkstation.local'], '10:39:59': ['logout', 'myworkstation.local'], '23:48:50': ['login', 'webserver.local'], '19:15:55': ['login', 'webserver.local'], '07:51:17': ['logout', 'webserver.local'], '22:27:18': ['login', 'webserver.local']}, '2020-05-02': {'11:38:03': ['login', 'mailserver.local'], '14:51:49': ['login', 'myworkstation.local'], '12:19:54': ['logout', 'myworkstation.local'], '13:30:23': ['login', 'myworkstation.local'], '20:50:52': ['logout', 'mailserver.local'], '03:18:45': ['logout', 'webserver.local'], '03:49:53': ['logout', 'webserver.local'], '07:58:37': ['login', 'myworkstation.local'], '01:27:58': ['logout', 'webserver.local']}, '2020-05-25': {'00:31:51': ['login', 'mailserver.local'], '05:20:44': ['login', 'webserver.local'], '09:43:31': ['logout', 'mailserver.local'], '20:19:48': ['login', 'myworkstation.local'], '08:06:56': ['login', 'webserver.local']}, '2020-05-06': {'05:25:28': ['login', 'mailserver.local'], '23:50:07': ['logout', 'webserver.local'], '04:09:21': ['logout', 'myworkstation.local'], '13:40:18': ['login', 'mailserver.local'], '12:39:30': ['login', 'mailserver.local']}, '2020-05-18': {'05:29:03': ['logout', 'webserver.local'], '05:08:51': ['logout', 'myworkstation.local'], '00:28:05': ['logout', 'myworkstation.local'], '10:40:48': ['logout', 'webserver.local']}, '2020-05-30': {'13:47:54': ['login', 'webserver.local'], '17:07:12': ['logout', 'myworkstation.local'], '19:18:50': ['logout', 'myworkstation.local']}, '2020-05-01': {'06:51:17': ['login', 'webserver.local'], '23:35:25': ['logout', 'myworkstation.local'], '20:36:04': ['logout', 'mailserver.local'], '14:46:28': ['login', 'myworkstation.local'], '13:26:56': ['logout', 'mailserver.local'], '18:10:17': ['logout', 'webserver.local']}, '2020-05-27': {'01:21:31': ['logout', 'mailserver.local'], '04:05:47': ['logout', 'myworkstation.local'], '04:54:45': ['login', 'mailserver.local']}, '2020-05-21': {'08:59:08': ['logout', 'webserver.local'], '05:29:29': ['logout', 'myworkstation.local'], '05:39:53': ['login', 'myworkstation.local'], '07:45:28': ['login', 'myworkstation.local']}, '2020-05-17': {'17:07:06': ['logout', 'mailserver.local'], '18:53:01': ['logout', 'webserver.local'], '23:36:56': ['login', 'myworkstation.local'], '08:23:02': ['logout', 'mailserver.local']}, '2020-05-29': {'07:45:27': ['logout', 'mailserver.local'], '22:46:44': ['login', 'webserver.local']}, '2020-05-13': {'04:54:25': ['login', 'mailserver.local'], '14:36:29': ['login', 'mailserver.local']}, '2020-05-08': {'19:33:20': ['logout', 'mailserver.local'], '14:00:55': ['login', 'mailserver.local'], '06:57:03': ['login', 'webserver.local'], '12:07:16': ['login', 'mailserver.local'], '22:40:56': ['login', 'mailserver.local']}, '2020-05-04': {'23:24:00': ['logout', 'mailserver.local'], '04:01:52': ['logout', 'webserver.local'], '20:11:37': ['login', 'myworkstation.local'], '20:47:21': ['login', 'mailserver.local'], '02:35:34': ['login', 'myworkstation.local']}, '2020-05-07': {'23:12:16': ['logout', 'mailserver.local'], '20:28:15': ['login', 'myworkstation.local'], '15:11:20': ['logout', 'myworkstation.local'], '13:03:52': ['logout', 'mailserver.local'], '01:12:40': ['logout', 'mailserver.local']}, '2020-05-24': {'19:14:54': ['login', 'myworkstation.local'], '16:20:13': ['logout', 'mailserver.local'], '17:32:29': ['login', 'mailserver.local'], '20:41:25': ['login', 'mailserver.local']}, '2020-05-14': {'17:01:17': ['login', 'webserver.local']}, '2020-05-19': {'05:25:25': ['logout', 'webserver.local'], '18:40:24': ['logout', 'webserver.local']}, '2020-05-11': {'20:54:39': ['logout', 'myworkstation.local']}, '2020-05-28': {'13:43:46': ['logout', 'myworkstation.local'], '01:22:09': ['logout', 'mailserver.local'], '20:34:03': ['login', 'myworkstation.local']}, '2020-05-09': {'04:20:06': ['login', 'myworkstation.local'], '18:53:42': ['login', 'mailserver.local'], '18:55:11': ['login', 'webserver.local'], '04:34:31': ['logout', 'mailserver.local'], '03:04:02': ['login', 'mailserver.local']}, '2020-05-15': {'03:23:29': ['logout', 'myworkstation.local'], '21:14:40': ['login', 'mailserver.local']}, '2020-05-22': {'05:37:12': ['login', 'mailserver.local']}, '2020-05-10': {'01:04:08': ['logout', 'webserver.local']}}\n"
     ]
    }
   ],
   "source": [
    "fh = open(\"userlog.log\")\n",
    "text = fh.readlines()\n",
    "clean = []\n",
    "listOfLines = []\n",
    "\n",
    "for line in text:\n",
    "    lineClean1 = line.replace('\\n', '')\n",
    "    lineClean2 = lineClean1.replace('\\t', '')\n",
    "    \n",
    "    clean.append(lineClean2)\n",
    "    \n",
    "for line in clean:\n",
    "    lineSplit = line.split()\n",
    "    \n",
    "    listOfLines.append(lineSplit)\n",
    "    \n",
    "dictOfUsers = {}\n",
    "\n",
    "for line in listOfLines:\n",
    "    user = line[4]\n",
    "    \n",
    "    if user not in dictOfUsers:\n",
    "        x = {}\n",
    "        dictOfUsers[user] = x\n",
    "\n",
    "    date = line[0]\n",
    "    time = line[1]\n",
    "    activity = line[2]\n",
    "    server = line[3]\n",
    "    \n",
    "    if date not in dictOfUsers[user]:\n",
    "        timeDict = {}\n",
    "        dictOfUsers[user][date] = timeDict\n",
    "    \n",
    "    if time not in dictOfUsers[user][date]:\n",
    "        actServer = []\n",
    "        dictOfUsers[user][date][time] = actServer\n",
    "    \n",
    "    dictOfUsers[user][date][time].append(activity)\n",
    "    dictOfUsers[user][date][time].append(server)\n",
    "    \n",
    "#print(listOfLines)\n",
    "print(dictOfUsers[\"melaina.gabeline@yahoo.com.mx\"])"
   ]
  },
  {
   "cell_type": "code",
   "execution_count": 28,
   "metadata": {},
   "outputs": [],
   "source": [
    "def sus(user):\n",
    "    susCount = 0\n",
    "    \n",
    "    for day in dictOfUsers[user]:\n",
    "        sus = False\n",
    "        logins = 0\n",
    "        \n",
    "        for time in dictOfUsers[user][day]:\n",
    "            if sus == True:\n",
    "                break\n",
    "            \n",
    "            if time >= \"00:00:00\" and time <= \"05:00:00\" and dictOfUsers[user][day][time][0] == \"login\":\n",
    "                sus = True\n",
    "                \n",
    "            if dictOfUsers[user][day][time][0] == \"login\":\n",
    "                logins += 1\n",
    "                \n",
    "        if sus == True:\n",
    "            susCount += 1\n",
    "            continue\n",
    "            \n",
    "        if logins > 5:\n",
    "            susCount +=1\n",
    "            \n",
    "    return susCount"
   ]
  },
  {
   "cell_type": "code",
   "execution_count": 29,
   "metadata": {},
   "outputs": [
    {
     "name": "stdout",
     "output_type": "stream",
     "text": [
      "7\n"
     ]
    }
   ],
   "source": [
    "print(sus(\"melaina.gabeline@yahoo.com.mx\"))"
   ]
  },
  {
   "cell_type": "code",
   "execution_count": null,
   "metadata": {},
   "outputs": [],
   "source": []
  }
 ],
 "metadata": {
  "kernelspec": {
   "display_name": "Python 3",
   "language": "python",
   "name": "python3"
  },
  "language_info": {
   "codemirror_mode": {
    "name": "ipython",
    "version": 3
   },
   "file_extension": ".py",
   "mimetype": "text/x-python",
   "name": "python",
   "nbconvert_exporter": "python",
   "pygments_lexer": "ipython3",
   "version": "3.8.5"
  }
 },
 "nbformat": 4,
 "nbformat_minor": 4
}
